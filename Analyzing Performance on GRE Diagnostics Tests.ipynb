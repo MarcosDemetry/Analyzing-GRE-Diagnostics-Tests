{
 "cells": [
  {
   "cell_type": "markdown",
   "metadata": {},
   "source": [
    "# Analyzing Performance on GRE Diagnostics Tests"
   ]
  },
  {
   "cell_type": "code",
   "execution_count": 1,
   "metadata": {},
   "outputs": [],
   "source": [
    "import pandas as pd\n",
    "import numpy as np\n",
    "import seaborn as sns\n",
    "import matplotlib.pyplot as plt\n",
    "import PyPDF2, os, re\n",
    "from pathlib import Path\n",
    "import slate3k as slate\n",
    "\n",
    "%matplotlib inline"
   ]
  },
  {
   "cell_type": "code",
   "execution_count": 2,
   "metadata": {},
   "outputs": [],
   "source": [
    "## Setting CWD\n",
    "cwd = os.getcwd()\n",
    "root = Path(cwd).parents[0]\n",
    "datadir = str(Path(root)) + str('/data')\n",
    "outputdir = str(Path(root)) + str('/output')"
   ]
  },
  {
   "cell_type": "markdown",
   "metadata": {},
   "source": [
    "Documents were screenshots of the answers that were put together as a pdf and then OCR:ed (via: https://www.sejda.com/ocr-pdf).\n",
    "\n",
    "I also have some data from an ETS diagnostics test. However, the questions in that test was not timed or had labeled difficulty levels and categorized topics. I categorized the questions myself and assessed their difficulty level. For much of the notebook, I rely mainly on the Kaplan data."
   ]
  },
  {
   "cell_type": "markdown",
   "metadata": {},
   "source": [
    "# Table of Contents\n",
    "* [Preparing data](#first-bullet)\n",
    "* [Analyzing data: Kaplan](#second-bullet)\n",
    "    - [Speed](#second-bullet-s2)\n",
    "    - [Accuracy](#second-bullet-s3)\n",
    "    - [Accuracy by Topic](#second-bullet-s4)\n",
    "    - [Performance over Time](#second-bullet-s5)\n",
    "* [Analyzing data: ETS and Kaplan](#third-bullet)"
   ]
  },
  {
   "cell_type": "markdown",
   "metadata": {},
   "source": [
    "## Preparing data <a class=\"anchor\" id=\"first-bullet\"></a>"
   ]
  },
  {
   "cell_type": "markdown",
   "metadata": {},
   "source": [
    "### Kaplan preptest 1"
   ]
  },
  {
   "cell_type": "code",
   "execution_count": 3,
   "metadata": {},
   "outputs": [
    {
     "name": "stderr",
     "output_type": "stream",
     "text": [
      "WARNING:root:Unknown operator: 'QQ'\n",
      "WARNING:root:Unknown operator: 'QQ'\n",
      "WARNING:root:Unknown operator: 'QQ'\n",
      "WARNING:root:Unknown operator: 'QQ'\n",
      "WARNING:root:Unknown operator: 'QQ'\n",
      "WARNING:root:Unknown operator: 'QQ'\n",
      "WARNING:root:Unknown operator: 'QQ'\n",
      "WARNING:root:Unknown operator: 'QQ'\n",
      "WARNING:root:Unknown operator: 'QQ'\n",
      "WARNING:root:Unknown operator: 'QQ'\n",
      "WARNING:root:Unknown operator: 'QQ'\n",
      "WARNING:root:Unknown operator: 'QQ'\n",
      "WARNING:root:Unknown operator: 'QQ'\n",
      "WARNING:root:Unknown operator: 'QQ'\n",
      "WARNING:root:Unknown operator: 'QQ'\n",
      "WARNING:root:Unknown operator: 'QQ'\n",
      "WARNING:root:Unknown operator: 'QQ'\n",
      "WARNING:root:Unknown operator: 'QQ'\n",
      "WARNING:root:Unknown operator: 'QQ'\n",
      "WARNING:root:Unknown operator: 'QQ'\n",
      "WARNING:root:Unknown operator: 'QQ'\n"
     ]
    },
    {
     "name": "stdout",
     "output_type": "stream",
     "text": [
      "Topic: SetsandStatistics; Difficulty: Low; Seconds: 35\n",
      "Topic: Arithmetic; Difficulty: Medium; Seconds: 75\n",
      "Topic: Proportions; Difficulty: Medium; Seconds: 63\n",
      "Topic: SetsandStatistics; Difficulty: Medium; Seconds: 188\n",
      "Topic: Geometry; Difficulty: Medium; Seconds: 210\n",
      "Topic: Geometry; Difficulty: Low; Seconds: 67\n",
      "Topic: NumberProperties; Difficulty: Medium; Seconds: 27\n",
      "Topic: Geometry; Difficulty: Low; Seconds: 47\n",
      "Topic: Arithmetic; Difficulty: High; Seconds: 107\n",
      "Topic: Algebra; Difficulty: Medium; Seconds: 73\n",
      "Topic: SetsandStatistics; Difficulty: Medium; Seconds: 58\n",
      "Topic: Geometry; Difficulty: Low; Seconds: 12\n",
      "Topic: SetsandStatistics; Difficulty: Medium; Seconds: 58\n",
      "Topic: DataInterpretation; Difficulty: Medium; Seconds: 76\n",
      "Topic: DataInterpretation; Difficulty: Medium; Seconds: 119\n",
      "Topic: DataInterpretation; Difficulty: Medium; Seconds: 92\n",
      "Topic: Geometry; Difficulty: Medium; Seconds: 224\n",
      "Topic: SetsandStatistics; Difficulty: Medium; Seconds: 159\n",
      "Topic: Arithmetic; Difficulty: Low; Seconds: 78\n",
      "Topic: Algebra; Difficulty: Low; Seconds: 130\n"
     ]
    },
    {
     "name": "stderr",
     "output_type": "stream",
     "text": [
      "WARNING:root:Unknown operator: 'QQ'\n",
      "WARNING:root:Unknown operator: 'QQ'\n",
      "WARNING:root:Unknown operator: 'QQ'\n",
      "WARNING:root:Unknown operator: 'QQ'\n",
      "WARNING:root:Unknown operator: 'QQ'\n",
      "WARNING:root:Unknown operator: 'QQ'\n",
      "WARNING:root:Unknown operator: 'QQ'\n",
      "WARNING:root:Unknown operator: 'QQ'\n",
      "WARNING:root:Unknown operator: 'QQ'\n",
      "WARNING:root:Unknown operator: 'QQ'\n",
      "WARNING:root:Unknown operator: 'QQ'\n",
      "WARNING:root:Unknown operator: 'QQ'\n",
      "WARNING:root:Unknown operator: 'QQ'\n",
      "WARNING:root:Unknown operator: 'QQ'\n",
      "WARNING:root:Unknown operator: 'QQ'\n",
      "WARNING:root:Unknown operator: 'QQ'\n",
      "WARNING:root:Unknown operator: 'QQ'\n",
      "WARNING:root:Unknown operator: 'QQ'\n",
      "WARNING:root:Unknown operator: 'QQ'\n",
      "WARNING:root:Unknown operator: 'QQ'\n"
     ]
    },
    {
     "name": "stdout",
     "output_type": "stream",
     "text": [
      "Topic: Geometry; Difficulty: High; Seconds: 165\n",
      "Topic: Geometry; Difficulty: High; Seconds: 80\n",
      "Topic: SetsandStatistics; Difficulty: High; Seconds: 81\n",
      "Topic: NumberProperties; Difficulty: High; Seconds: 112\n",
      "Topic: SetsandStatistics; Difficulty: High; Seconds: 48\n",
      "Topic: Arithmetic; Difficulty: High; Seconds: 99\n",
      "Topic: NumberProperties; Difficulty: Medium; Seconds: 54\n",
      "Topic: Geometry; Difficulty: High; Seconds: 105\n",
      "Topic: Geometry; Difficulty: Low; Seconds: 73\n",
      "Topic: SetsandStatistics; Difficulty: High; Seconds: 223\n",
      "Topic: Proportions; Difficulty: High; Seconds: 191\n",
      "Topic: Geometry; Difficulty: High; Seconds: 115\n",
      "Topic: DataInterpretation; Difficulty: High; Seconds: 167\n",
      "Topic: DataInterpretation; Difficulty: Medium; Seconds: 140\n",
      "Topic: DataInterpretation; Difficulty: High; Seconds: 72\n",
      "Topic: Arithmetic; Difficulty: High; Seconds: 123\n",
      "Topic: NumberProperties; Difficulty: High; Seconds: 118\n",
      "Topic: NumberProperties; Difficulty: High; Seconds: 89\n",
      "Topic: Algebra; Difficulty: High; Seconds: 21\n",
      "Topic: SetsandStatistics; Difficulty: High; Seconds: 15\n"
     ]
    },
    {
     "name": "stderr",
     "output_type": "stream",
     "text": [
      "WARNING:root:Unknown operator: 'QQ'\n",
      "WARNING:root:Unknown operator: 'QQ'\n",
      "WARNING:root:Unknown operator: 'QQ'\n",
      "WARNING:root:Unknown operator: 'QQ'\n",
      "WARNING:root:Unknown operator: 'QQ'\n",
      "WARNING:root:Unknown operator: 'QQ'\n",
      "WARNING:root:Unknown operator: 'QQ'\n",
      "WARNING:root:Unknown operator: 'QQ'\n",
      "WARNING:root:Unknown operator: 'QQ'\n",
      "WARNING:root:Unknown operator: 'QQ'\n",
      "WARNING:root:Unknown operator: 'QQ'\n",
      "WARNING:root:Unknown operator: 'QQ'\n",
      "WARNING:root:Unknown operator: 'QQ'\n",
      "WARNING:root:Unknown operator: 'QQ'\n",
      "WARNING:root:Unknown operator: 'QQ'\n",
      "WARNING:root:Unknown operator: 'QQ'\n",
      "WARNING:root:Unknown operator: 'QQ'\n",
      "WARNING:root:Unknown operator: 'QQ'\n",
      "WARNING:root:Unknown operator: 'QQ'\n"
     ]
    },
    {
     "name": "stdout",
     "output_type": "stream",
     "text": [
      "Topic: Arithmetic; Difficulty: High; Seconds: 73\n",
      "Topic: Proportions; Difficulty: High; Seconds: 186\n",
      "Topic: SetsandStatistics; Difficulty: Medium; Seconds: 123\n",
      "Topic: Arithmetic; Difficulty: High; Seconds: 186\n",
      "Topic: Geometry; Difficulty: High; Seconds: 187\n",
      "Topic: NumberProperties; Difficulty: High; Seconds: 33\n",
      "Topic: Algebra; Difficulty: Low; Seconds: 36\n",
      "Topic: Arithmetic; Difficulty: High; Seconds: 118\n",
      "Topic: Geometry; Difficulty: High; Seconds: 72\n",
      "Topic: Proportions; Difficulty: High; Seconds: 207\n",
      "Topic: Proportions; Difficulty: Medium; Seconds: 138\n",
      "Topic: Algebra; Difficulty: Medium; Seconds: 80\n",
      "Topic: SetsandStatistics; Difficulty: Medium; Seconds: 111\n",
      "Topic: DataInterpretation; Difficulty: Low; Seconds: 52\n",
      "Topic: DataInterpretation; Difficulty: Medium; Seconds: 82\n",
      "Topic: DataInterpretation; Difficulty: Low; Seconds: 43\n",
      "Topic: Algebra; Difficulty: Low; Seconds: 33\n",
      "Topic: SetsandStatistics; Difficulty: High; Seconds: 181\n",
      "Topic: SetsandStatistics; Difficulty: High; Seconds: 126\n",
      "Topic: SetsandStatistics; Difficulty: High; Seconds: 27\n"
     ]
    }
   ],
   "source": [
    "path_to_files = str(root) + \"/kaplan_preptest1\"\n",
    "os.chdir(path_to_files)\n",
    "\n",
    "documents = [\"set1.pdf\", \"set2.pdf\", \"set3.pdf\"]\n",
    "\n",
    "question_setlist = []\n",
    "question_list = []\n",
    "difficulty_list = []\n",
    "topic_list = []\n",
    "seconds_list = []\n",
    "sources = []\n",
    "\n",
    "question_set = 0\n",
    "\n",
    "for document in documents:\n",
    "    \n",
    "    question_set += 1\n",
    "    \n",
    "    with open(document,'rb') as fh:\n",
    "        document = slate.PDF(fh, just_text=1)\n",
    "\n",
    "\n",
    "    question = 0\n",
    "\n",
    "    for page in document:\n",
    "        \n",
    "        \n",
    "        question_setlist.append(int(question_set))\n",
    "    \n",
    "        question += 1\n",
    "        question_list.append(int(question))\n",
    "\n",
    "        difficulty = re.search(r'(DIFFICULTY:)(\\w+)', str(page)).group(2)\n",
    "        difficulty_list.append(difficulty)\n",
    "\n",
    "        topic = re.search(r'(QUESTIONTOPIC:Quantitative-)(-)?(\\w+)', str(page)).group(3)\n",
    "        topic_list.append(topic)\n",
    "\n",
    "        seconds = re.search(r'(SECOND\\(S\\)USED)(:)?(\\d+)', str(page)).group(3)\n",
    "        seconds_list.append(int(seconds))\n",
    "        \n",
    "        sources.append(\"Kaplan\")\n",
    "\n",
    "        print(\"Topic: \" + str(topic) + \"; Difficulty: \" + str(difficulty) + \"; Seconds: \" + str(seconds))\n",
    "\n"
   ]
  },
  {
   "cell_type": "code",
   "execution_count": 4,
   "metadata": {},
   "outputs": [],
   "source": [
    "set1_answers = [1, 1, 0, 1, 1, 1, 1, 0, 0, 1, 1, 1, 1, 0, 1, 1, 0, 1, 1, 1]\n",
    "set2_answers = [0, 1, 0, 0, 1, 1, 1, 1, 1, 1, 1, 0, 0, 1, 1, 1, 1, 1, 1, 0]\n",
    "set3_answers = [0, 0, 0, 1, 1, 0, 1, 0, 0, 0, 0, 0, 1, 1, 1, 1, 1, 0, 1, 1]\n",
    "\n",
    "set_answers = [1, 1, 0, 1, 1, 1, 1, 0, 0, 1, 1, 1, 1, 0, 1, 1, 0, 1, 1, 1,\n",
    "               0, 1, 0, 0, 1, 1, 1, 1, 1, 1, 1, 0, 0, 1, 1, 1, 1, 1, 1, 0,\n",
    "               0, 0, 0, 1, 1, 0, 1, 0, 0, 0, 0, 0, 1, 1, 1, 1, 1, 0, 1, 1]"
   ]
  },
  {
   "cell_type": "code",
   "execution_count": 5,
   "metadata": {},
   "outputs": [],
   "source": [
    "df_kaplan = pd.DataFrame({'Source': sources,\n",
    "                   'Set': question_setlist,\n",
    "                   'Question_nr': question_list,\n",
    "                   'Topic': topic_list,\n",
    "                   'Difficulty': difficulty_list,\n",
    "                   'Seconds': seconds_list,\n",
    "                   'Answer': set_answers})"
   ]
  },
  {
   "cell_type": "markdown",
   "metadata": {},
   "source": [
    "### ETS preptest 1"
   ]
  },
  {
   "cell_type": "code",
   "execution_count": 6,
   "metadata": {},
   "outputs": [],
   "source": [
    "path_to_ets_file = str(root) + \"/ets_preptest1/question_data.xlsx\"\n",
    "df_ets = pd.read_excel(path_to_ets_file)"
   ]
  },
  {
   "cell_type": "code",
   "execution_count": 7,
   "metadata": {},
   "outputs": [],
   "source": [
    "## Appending kaplan df with ets df\n",
    "df = df_kaplan.append(df_ets, sort=True)"
   ]
  },
  {
   "cell_type": "markdown",
   "metadata": {},
   "source": [
    "## Analyzing data <a class=\"anchor\" id=\"second-bullet\"></a>"
   ]
  },
  {
   "cell_type": "code",
   "execution_count": 8,
   "metadata": {},
   "outputs": [
    {
     "data": {
      "text/html": [
       "<div>\n",
       "<style scoped>\n",
       "    .dataframe tbody tr th:only-of-type {\n",
       "        vertical-align: middle;\n",
       "    }\n",
       "\n",
       "    .dataframe tbody tr th {\n",
       "        vertical-align: top;\n",
       "    }\n",
       "\n",
       "    .dataframe thead th {\n",
       "        text-align: right;\n",
       "    }\n",
       "</style>\n",
       "<table border=\"1\" class=\"dataframe\">\n",
       "  <thead>\n",
       "    <tr style=\"text-align: right;\">\n",
       "      <th></th>\n",
       "      <th>Answer</th>\n",
       "      <th>Seconds</th>\n",
       "      <th>Set</th>\n",
       "    </tr>\n",
       "    <tr>\n",
       "      <th>Difficulty</th>\n",
       "      <th></th>\n",
       "      <th></th>\n",
       "      <th></th>\n",
       "    </tr>\n",
       "  </thead>\n",
       "  <tbody>\n",
       "    <tr>\n",
       "      <th>High</th>\n",
       "      <td>0.463415</td>\n",
       "      <td>114.724138</td>\n",
       "      <td>2.219512</td>\n",
       "    </tr>\n",
       "    <tr>\n",
       "      <th>Low</th>\n",
       "      <td>0.913043</td>\n",
       "      <td>55.090909</td>\n",
       "      <td>1.434783</td>\n",
       "    </tr>\n",
       "    <tr>\n",
       "      <th>Medium</th>\n",
       "      <td>0.722222</td>\n",
       "      <td>107.500000</td>\n",
       "      <td>1.555556</td>\n",
       "    </tr>\n",
       "  </tbody>\n",
       "</table>\n",
       "</div>"
      ],
      "text/plain": [
       "              Answer     Seconds       Set\n",
       "Difficulty                                \n",
       "High        0.463415  114.724138  2.219512\n",
       "Low         0.913043   55.090909  1.434783\n",
       "Medium      0.722222  107.500000  1.555556"
      ]
     },
     "execution_count": 8,
     "metadata": {},
     "output_type": "execute_result"
    }
   ],
   "source": [
    "df[['Difficulty','Answer','Seconds','Set']].groupby('Difficulty').mean()"
   ]
  },
  {
   "cell_type": "code",
   "execution_count": 9,
   "metadata": {},
   "outputs": [
    {
     "data": {
      "text/html": [
       "<div>\n",
       "<style scoped>\n",
       "    .dataframe tbody tr th:only-of-type {\n",
       "        vertical-align: middle;\n",
       "    }\n",
       "\n",
       "    .dataframe tbody tr th {\n",
       "        vertical-align: top;\n",
       "    }\n",
       "\n",
       "    .dataframe thead tr th {\n",
       "        text-align: left;\n",
       "    }\n",
       "\n",
       "    .dataframe thead tr:last-of-type th {\n",
       "        text-align: right;\n",
       "    }\n",
       "</style>\n",
       "<table border=\"1\" class=\"dataframe\">\n",
       "  <thead>\n",
       "    <tr>\n",
       "      <th></th>\n",
       "      <th colspan=\"8\" halign=\"left\">Answer</th>\n",
       "      <th colspan=\"8\" halign=\"left\">Seconds</th>\n",
       "    </tr>\n",
       "    <tr>\n",
       "      <th></th>\n",
       "      <th>count</th>\n",
       "      <th>mean</th>\n",
       "      <th>std</th>\n",
       "      <th>min</th>\n",
       "      <th>25%</th>\n",
       "      <th>50%</th>\n",
       "      <th>75%</th>\n",
       "      <th>max</th>\n",
       "      <th>count</th>\n",
       "      <th>mean</th>\n",
       "      <th>std</th>\n",
       "      <th>min</th>\n",
       "      <th>25%</th>\n",
       "      <th>50%</th>\n",
       "      <th>75%</th>\n",
       "      <th>max</th>\n",
       "    </tr>\n",
       "    <tr>\n",
       "      <th>Set</th>\n",
       "      <th></th>\n",
       "      <th></th>\n",
       "      <th></th>\n",
       "      <th></th>\n",
       "      <th></th>\n",
       "      <th></th>\n",
       "      <th></th>\n",
       "      <th></th>\n",
       "      <th></th>\n",
       "      <th></th>\n",
       "      <th></th>\n",
       "      <th></th>\n",
       "      <th></th>\n",
       "      <th></th>\n",
       "      <th></th>\n",
       "      <th></th>\n",
       "    </tr>\n",
       "  </thead>\n",
       "  <tbody>\n",
       "    <tr>\n",
       "      <th>1</th>\n",
       "      <td>40.0</td>\n",
       "      <td>0.775</td>\n",
       "      <td>0.422902</td>\n",
       "      <td>0.0</td>\n",
       "      <td>1.0</td>\n",
       "      <td>1.0</td>\n",
       "      <td>1.0</td>\n",
       "      <td>1.0</td>\n",
       "      <td>20.0</td>\n",
       "      <td>94.90</td>\n",
       "      <td>59.851483</td>\n",
       "      <td>12.0</td>\n",
       "      <td>58.00</td>\n",
       "      <td>75.5</td>\n",
       "      <td>121.75</td>\n",
       "      <td>224.0</td>\n",
       "    </tr>\n",
       "    <tr>\n",
       "      <th>2</th>\n",
       "      <td>40.0</td>\n",
       "      <td>0.625</td>\n",
       "      <td>0.490290</td>\n",
       "      <td>0.0</td>\n",
       "      <td>0.0</td>\n",
       "      <td>1.0</td>\n",
       "      <td>1.0</td>\n",
       "      <td>1.0</td>\n",
       "      <td>20.0</td>\n",
       "      <td>104.55</td>\n",
       "      <td>53.919506</td>\n",
       "      <td>15.0</td>\n",
       "      <td>72.75</td>\n",
       "      <td>102.0</td>\n",
       "      <td>127.25</td>\n",
       "      <td>223.0</td>\n",
       "    </tr>\n",
       "    <tr>\n",
       "      <th>3</th>\n",
       "      <td>20.0</td>\n",
       "      <td>0.500</td>\n",
       "      <td>0.512989</td>\n",
       "      <td>0.0</td>\n",
       "      <td>0.0</td>\n",
       "      <td>0.5</td>\n",
       "      <td>1.0</td>\n",
       "      <td>1.0</td>\n",
       "      <td>20.0</td>\n",
       "      <td>104.70</td>\n",
       "      <td>60.356921</td>\n",
       "      <td>27.0</td>\n",
       "      <td>49.75</td>\n",
       "      <td>96.5</td>\n",
       "      <td>148.75</td>\n",
       "      <td>207.0</td>\n",
       "    </tr>\n",
       "  </tbody>\n",
       "</table>\n",
       "</div>"
      ],
      "text/plain": [
       "    Answer                                           Seconds          \\\n",
       "     count   mean       std  min  25%  50%  75%  max   count    mean   \n",
       "Set                                                                    \n",
       "1     40.0  0.775  0.422902  0.0  1.0  1.0  1.0  1.0    20.0   94.90   \n",
       "2     40.0  0.625  0.490290  0.0  0.0  1.0  1.0  1.0    20.0  104.55   \n",
       "3     20.0  0.500  0.512989  0.0  0.0  0.5  1.0  1.0    20.0  104.70   \n",
       "\n",
       "                                                   \n",
       "           std   min    25%    50%     75%    max  \n",
       "Set                                                \n",
       "1    59.851483  12.0  58.00   75.5  121.75  224.0  \n",
       "2    53.919506  15.0  72.75  102.0  127.25  223.0  \n",
       "3    60.356921  27.0  49.75   96.5  148.75  207.0  "
      ]
     },
     "execution_count": 9,
     "metadata": {},
     "output_type": "execute_result"
    }
   ],
   "source": [
    "df[['Answer','Seconds', 'Set']].groupby('Set').describe()"
   ]
  },
  {
   "cell_type": "code",
   "execution_count": 10,
   "metadata": {},
   "outputs": [
    {
     "data": {
      "text/html": [
       "<div>\n",
       "<style scoped>\n",
       "    .dataframe tbody tr th:only-of-type {\n",
       "        vertical-align: middle;\n",
       "    }\n",
       "\n",
       "    .dataframe tbody tr th {\n",
       "        vertical-align: top;\n",
       "    }\n",
       "\n",
       "    .dataframe thead tr th {\n",
       "        text-align: left;\n",
       "    }\n",
       "\n",
       "    .dataframe thead tr:last-of-type th {\n",
       "        text-align: right;\n",
       "    }\n",
       "</style>\n",
       "<table border=\"1\" class=\"dataframe\">\n",
       "  <thead>\n",
       "    <tr>\n",
       "      <th></th>\n",
       "      <th colspan=\"8\" halign=\"left\">Answer</th>\n",
       "      <th colspan=\"8\" halign=\"left\">Seconds</th>\n",
       "    </tr>\n",
       "    <tr>\n",
       "      <th></th>\n",
       "      <th>count</th>\n",
       "      <th>mean</th>\n",
       "      <th>std</th>\n",
       "      <th>min</th>\n",
       "      <th>25%</th>\n",
       "      <th>50%</th>\n",
       "      <th>75%</th>\n",
       "      <th>max</th>\n",
       "      <th>count</th>\n",
       "      <th>mean</th>\n",
       "      <th>std</th>\n",
       "      <th>min</th>\n",
       "      <th>25%</th>\n",
       "      <th>50%</th>\n",
       "      <th>75%</th>\n",
       "      <th>max</th>\n",
       "    </tr>\n",
       "    <tr>\n",
       "      <th>Source</th>\n",
       "      <th></th>\n",
       "      <th></th>\n",
       "      <th></th>\n",
       "      <th></th>\n",
       "      <th></th>\n",
       "      <th></th>\n",
       "      <th></th>\n",
       "      <th></th>\n",
       "      <th></th>\n",
       "      <th></th>\n",
       "      <th></th>\n",
       "      <th></th>\n",
       "      <th></th>\n",
       "      <th></th>\n",
       "      <th></th>\n",
       "      <th></th>\n",
       "    </tr>\n",
       "  </thead>\n",
       "  <tbody>\n",
       "    <tr>\n",
       "      <th>ETS</th>\n",
       "      <td>40.0</td>\n",
       "      <td>0.675</td>\n",
       "      <td>0.474342</td>\n",
       "      <td>0.0</td>\n",
       "      <td>0.0</td>\n",
       "      <td>1.0</td>\n",
       "      <td>1.0</td>\n",
       "      <td>1.0</td>\n",
       "      <td>0.0</td>\n",
       "      <td>NaN</td>\n",
       "      <td>NaN</td>\n",
       "      <td>NaN</td>\n",
       "      <td>NaN</td>\n",
       "      <td>NaN</td>\n",
       "      <td>NaN</td>\n",
       "      <td>NaN</td>\n",
       "    </tr>\n",
       "    <tr>\n",
       "      <th>Kaplan</th>\n",
       "      <td>60.0</td>\n",
       "      <td>0.650</td>\n",
       "      <td>0.480995</td>\n",
       "      <td>0.0</td>\n",
       "      <td>0.0</td>\n",
       "      <td>1.0</td>\n",
       "      <td>1.0</td>\n",
       "      <td>1.0</td>\n",
       "      <td>60.0</td>\n",
       "      <td>101.383333</td>\n",
       "      <td>57.309476</td>\n",
       "      <td>12.0</td>\n",
       "      <td>58.0</td>\n",
       "      <td>85.5</td>\n",
       "      <td>132.0</td>\n",
       "      <td>224.0</td>\n",
       "    </tr>\n",
       "  </tbody>\n",
       "</table>\n",
       "</div>"
      ],
      "text/plain": [
       "       Answer                                           Seconds              \\\n",
       "        count   mean       std  min  25%  50%  75%  max   count        mean   \n",
       "Source                                                                        \n",
       "ETS      40.0  0.675  0.474342  0.0  0.0  1.0  1.0  1.0     0.0         NaN   \n",
       "Kaplan   60.0  0.650  0.480995  0.0  0.0  1.0  1.0  1.0    60.0  101.383333   \n",
       "\n",
       "                                                   \n",
       "              std   min   25%   50%    75%    max  \n",
       "Source                                             \n",
       "ETS           NaN   NaN   NaN   NaN    NaN    NaN  \n",
       "Kaplan  57.309476  12.0  58.0  85.5  132.0  224.0  "
      ]
     },
     "execution_count": 10,
     "metadata": {},
     "output_type": "execute_result"
    }
   ],
   "source": [
    "df[['Answer','Seconds', 'Source']].groupby('Source').describe()"
   ]
  },
  {
   "cell_type": "markdown",
   "metadata": {},
   "source": [
    "### Speed <a class=\"anchor\" id=\"second-bullet-s2\"></a>"
   ]
  },
  {
   "cell_type": "code",
   "execution_count": 11,
   "metadata": {},
   "outputs": [],
   "source": [
    "plt.rcParams[\"figure.figsize\"] = (8, 4)\n",
    "plt.rcParams[\"xtick.labelsize\"] = 7"
   ]
  },
  {
   "cell_type": "code",
   "execution_count": 12,
   "metadata": {},
   "outputs": [
    {
     "data": {
      "text/plain": [
       "<matplotlib.axes._subplots.AxesSubplot at 0x1a1e633d90>"
      ]
     },
     "execution_count": 12,
     "metadata": {},
     "output_type": "execute_result"
    },
    {
     "data": {
      "image/png": "[encoded data removed]",
      "text/plain": [
       "<Figure size 576x288 with 1 Axes>"
      ]
     },
     "metadata": {
      "needs_background": "light"
     },
     "output_type": "display_data"
    }
   ],
   "source": [
    "sns.distplot(df_kaplan['Seconds'], kde=False)"
   ]
  },
  {
   "cell_type": "code",
   "execution_count": 13,
   "metadata": {},
   "outputs": [
    {
     "data": {
      "image/png": "[encoded data removed]",
      "text/plain": [
       "<Figure size 576x288 with 1 Axes>"
      ]
     },
     "metadata": {
      "needs_background": "light"
     },
     "output_type": "display_data"
    }
   ],
   "source": [
    "ax = sns.boxplot(x='Difficulty', y='Seconds', data=df_kaplan, orient=\"v\")"
   ]
  },
  {
   "cell_type": "markdown",
   "metadata": {},
   "source": [
    "From the figure above, as expected, the more difficult the question is, the longer it took me to answer."
   ]
  },
  {
   "cell_type": "markdown",
   "metadata": {},
   "source": [
    "### Accuracy <a class=\"anchor\" id=\"second-bullet-s3\"></a>"
   ]
  },
  {
   "cell_type": "markdown",
   "metadata": {},
   "source": [
    "So I may be able to answer easy questions quickly, but do I get them right? Thankfully, I answer more right than wrong."
   ]
  },
  {
   "cell_type": "code",
   "execution_count": 14,
   "metadata": {},
   "outputs": [
    {
     "data": {
      "image/png": "[encoded data removed]",
      "text/plain": [
       "<Figure size 576x288 with 1 Axes>"
      ]
     },
     "metadata": {
      "needs_background": "light"
     },
     "output_type": "display_data"
    }
   ],
   "source": [
    "ax = sns.countplot(x='Answer', data=df_kaplan)"
   ]
  },
  {
   "cell_type": "markdown",
   "metadata": {},
   "source": [
    "The figure below shows that I got most of the easy questions right. I also got many more of the medium-difficulty questions right than wrong. By the time I got to the hard questions, it was close to a 50-50."
   ]
  },
  {
   "cell_type": "code",
   "execution_count": 15,
   "metadata": {},
   "outputs": [
    {
     "data": {
      "image/png": "[encoded data removed]",
      "text/plain": [
       "<Figure size 576x288 with 1 Axes>"
      ]
     },
     "metadata": {
      "needs_background": "light"
     },
     "output_type": "display_data"
    }
   ],
   "source": [
    "ax = sns.countplot(x='Answer', hue=\"Difficulty\", data=df_kaplan)"
   ]
  },
  {
   "cell_type": "markdown",
   "metadata": {},
   "source": [
    "### Accuracy by Topic <a class=\"anchor\" id=\"second-bullet-s4\"></a>"
   ]
  },
  {
   "cell_type": "markdown",
   "metadata": {},
   "source": [
    "What topics do I mostly get right? There are a lot of Sets and Statistics questions, and I got a lot of them right. Next to that, I've done well in Data Interpretation and Algebra. Arithmetic, Number Properties and Geometry were trailing. It went horribly wrong with the Proportions questions. "
   ]
  },
  {
   "cell_type": "code",
   "execution_count": 16,
   "metadata": {},
   "outputs": [
    {
     "data": {
      "image/png": "[encoded data removed]",
      "text/plain": [
       "<Figure size 864x576 with 1 Axes>"
      ]
     },
     "metadata": {
      "needs_background": "light"
     },
     "output_type": "display_data"
    }
   ],
   "source": [
    "plt.figure(figsize=(12,8))\n",
    "ax = sns.countplot(x='Answer', hue=\"Topic\", data=df_kaplan)"
   ]
  },
  {
   "cell_type": "code",
   "execution_count": 17,
   "metadata": {},
   "outputs": [
    {
     "data": {
      "image/png": "[encoded data removed]",
      "text/plain": [
       "<Figure size 864x576 with 1 Axes>"
      ]
     },
     "metadata": {
      "needs_background": "light"
     },
     "output_type": "display_data"
    }
   ],
   "source": [
    "plt.figure(figsize=(12,8))\n",
    "ax = sns.countplot(x='Topic', hue=\"Answer\", data=df_kaplan)"
   ]
  },
  {
   "cell_type": "code",
   "execution_count": 18,
   "metadata": {},
   "outputs": [
    {
     "data": {
      "text/plain": [
       "<seaborn.axisgrid.PairGrid at 0x1a200598d0>"
      ]
     },
     "execution_count": 18,
     "metadata": {},
     "output_type": "execute_result"
    },
    {
     "data": {
      "image/png": "[encoded data removed]",
      "text/plain": [
       "<Figure size 436x360 with 6 Axes>"
      ]
     },
     "metadata": {
      "needs_background": "light"
     },
     "output_type": "display_data"
    }
   ],
   "source": [
    "sns.pairplot(df_kaplan, hue=\"Difficulty\", vars=[\"Seconds\", \"Answer\"], diag_kws={'bw': 0.2})"
   ]
  },
  {
   "cell_type": "markdown",
   "metadata": {},
   "source": [
    "### Performance over time <a class=\"anchor\" id=\"second-bullet-s5\"></a>"
   ]
  },
  {
   "cell_type": "code",
   "execution_count": 19,
   "metadata": {},
   "outputs": [
    {
     "data": {
      "text/plain": [
       "<seaborn.axisgrid.PairGrid at 0x1a1da4ef90>"
      ]
     },
     "execution_count": 19,
     "metadata": {},
     "output_type": "execute_result"
    },
    {
     "data": {
      "image/png": "[encoded data removed]",
      "text/plain": [
       "<Figure size 402.375x360 with 6 Axes>"
      ]
     },
     "metadata": {
      "needs_background": "light"
     },
     "output_type": "display_data"
    }
   ],
   "source": [
    "sns.pairplot(df_kaplan, hue=\"Set\", vars=[\"Seconds\", \"Answer\"])"
   ]
  },
  {
   "cell_type": "markdown",
   "metadata": {},
   "source": [
    "## Analyzing data: ETS and Kaplan <a class=\"anchor\" id=\"third-bullet\"></a>"
   ]
  },
  {
   "cell_type": "markdown",
   "metadata": {},
   "source": [
    "Let's look at the same thing but including the ETS scores."
   ]
  },
  {
   "cell_type": "code",
   "execution_count": 20,
   "metadata": {},
   "outputs": [
    {
     "data": {
      "image/png": "[encoded data removed]",
      "text/plain": [
       "<Figure size 576x288 with 1 Axes>"
      ]
     },
     "metadata": {
      "needs_background": "light"
     },
     "output_type": "display_data"
    }
   ],
   "source": [
    "ax = sns.countplot(x='Answer', data=df)"
   ]
  },
  {
   "cell_type": "code",
   "execution_count": 21,
   "metadata": {},
   "outputs": [
    {
     "data": {
      "image/png": "[encoded data removed]",
      "text/plain": [
       "<Figure size 576x288 with 1 Axes>"
      ]
     },
     "metadata": {
      "needs_background": "light"
     },
     "output_type": "display_data"
    }
   ],
   "source": [
    "ax = sns.countplot(x='Answer', hue=\"Difficulty\", data=df)"
   ]
  },
  {
   "cell_type": "code",
   "execution_count": 22,
   "metadata": {},
   "outputs": [
    {
     "data": {
      "image/png": "[encoded data removed]",
      "text/plain": [
       "<Figure size 864x576 with 1 Axes>"
      ]
     },
     "metadata": {
      "needs_background": "light"
     },
     "output_type": "display_data"
    }
   ],
   "source": [
    "plt.figure(figsize=(12,8))\n",
    "ax = sns.countplot(x='Answer', hue=\"Topic\", data=df)"
   ]
  },
  {
   "cell_type": "code",
   "execution_count": 23,
   "metadata": {},
   "outputs": [
    {
     "data": {
      "image/png": "[encoded data removed]",
      "text/plain": [
       "<Figure size 864x576 with 1 Axes>"
      ]
     },
     "metadata": {
      "needs_background": "light"
     },
     "output_type": "display_data"
    }
   ],
   "source": [
    "plt.figure(figsize=(12,8))\n",
    "ax = sns.countplot(x='Topic', hue=\"Answer\", data=df)"
   ]
  },
  {
   "cell_type": "markdown",
   "metadata": {},
   "source": [
    "# How did the GRE go?"
   ]
  },
  {
   "cell_type": "markdown",
   "metadata": {},
   "source": [
    "Following my Kaplan and ETS diagnostic tests, I focused on learning easy rules of thumb for how to answer the different questions. Using flashcards that I made, I studied all the topics but focused on learning how to answer the Proportions and Geometry questions. \n",
    "\n",
    "My Quantitative Reasoning scaled score was 163 (out of 170) which put me in the 82nd percentile."
   ]
  },
  {
   "cell_type": "markdown",
   "metadata": {},
   "source": [
    "# End"
   ]
  }
 ],
 "metadata": {
  "kernelspec": {
   "display_name": "Python 3",
   "language": "python",
   "name": "python3"
  },
  "language_info": {
   "codemirror_mode": {
    "name": "ipython",
    "version": 3
   },
   "file_extension": ".py",
   "mimetype": "text/x-python",
   "name": "python",
   "nbconvert_exporter": "python",
   "pygments_lexer": "ipython3",
   "version": "3.7.6"
  }
 },
 "nbformat": 4,
 "nbformat_minor": 2
}
